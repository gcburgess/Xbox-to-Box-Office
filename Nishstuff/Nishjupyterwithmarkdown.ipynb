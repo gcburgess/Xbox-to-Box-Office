{
 "cells": [
  {
   "cell_type": "markdown",
   "metadata": {},
   "source": [
    "## Final Project Submission\n",
    "\n",
    "Please fill out:\n",
    "* Student name: Nimeshi Fernando, Tyler Wood, Greg Burgess\n",
    "* Student pace:full time\n",
    "* Scheduled project review date/time: 3/11/22 7PM EST\n",
    "* Instructor name: David Elliot\n",
    "* Blog post URL:\n",
    "\n"
   ]
  },
  {
   "cell_type": "markdown",
   "metadata": {},
   "source": [
    " # From Xbox to Box Office: An intial industry analysis of the film industry for MS Studios "
   ]
  },
  {
   "cell_type": "markdown",
   "metadata": {},
   "source": [
    " ![MoviesUrl](https://tenor.com/view/minions-shh-quiet-movie-movies-gif-11885588.gif \"movies\")"
   ]
  },
  {
   "cell_type": "markdown",
   "metadata": {
    "heading_collapsed": true
   },
   "source": [
    "## Overview\n",
    "\n",
    "This project investigates the movie industry as a potential next investment for Microsoft Studios. Descriptive analysis of the data illustrated procuring high budgets, high profile directors and popular genres as one potential approach to producing a sucessful film. Microsoft Studios can use this analysis to determine how best to utilize their vast resources prior to their Hollywood debut. "
   ]
  },
  {
   "cell_type": "markdown",
   "metadata": {
    "heading_collapsed": true
   },
   "source": [
    "## Business Problem\n"
   ]
  },
  {
   "cell_type": "markdown",
   "metadata": {
    "hidden": true
   },
   "source": [
    " ![MovieUrl](https://tenor.com/view/whoa-bob-the-minion-kevin-the-minion-stuart-the-minion-pierre-coffin-gif-16561921.gif \"movie\")"
   ]
  },
  {
   "cell_type": "markdown",
   "metadata": {
    "hidden": true
   },
   "source": [
    "Microsoft is startegizing the best approach to take when entering the movie industry; they want recommendations supported by data analytics. This industry is notoriously competitive, and the most sucessful films proved to be outliers. Therfore the recommended startegy was to aim to be an outlier, in a way that only a company Like Microsoft can be.  Through the use of the 3rd party data given, we identified production budget, genres and directors as viable metrics and strived to tailor our recommendations to ones that best fit Microsoft as a company."
   ]
  },
  {
   "cell_type": "markdown",
   "metadata": {
    "heading_collapsed": true
   },
   "source": [
    "## Data Understanding\n",
    "\n",
    "The raw data used originated from three different sources and was ultimately processed and used in the analysis that led to our three recommendations. Our data sources were the Numbers database, Imdb.com and Box office Mojo. \n",
    "\n",
    "Additionaly, we had the option of using data from two other sources: Rotten Tomatoes and The Movie Database. Eventually we chose not to use this data in our final analysis as either there was alot of repetition(tmdb) to our other data, or too many null values (rotten tomato) to be a viable data set. \n"
   ]
  },
  {
   "cell_type": "code",
   "execution_count": 1,
   "metadata": {
    "hidden": true
   },
   "outputs": [],
   "source": [
    "import pandas as pd\n",
    "import sqlite3\n",
    "import matplotlib.pyplot as plt\n",
    "import seaborn as sns\n",
    "import numpy as np\n",
    "\n",
    "# print big numbers in pd.DataFrame (instead of scientific notation)\n",
    "pd.set_option('display.precision', 12)\n",
    "pd.set_option('display.float_format', lambda x: '%.2f' % x)\n",
    "\n",
    "# Set matplotlib title font size\n",
    "plt.rcParams['axes.titlesize'] = 18"
   ]
  },
  {
   "cell_type": "markdown",
   "metadata": {
    "heading_collapsed": true
   },
   "source": [
    "## The Numbers Data\n",
    "\n",
    "From the numbers database we used the production budget, domestic gross and worldwide gross values. Each value corresponds to a movie title, release date and ID. The Box office Mojo data also contained values that could be used for the financial part of our analysis. However we ultimately decided to use the numbers data because that data also included production budget values, while the others didnt. \n"
   ]
  },
  {
   "cell_type": "code",
   "execution_count": 2,
   "metadata": {
    "hidden": true,
    "scrolled": true
   },
   "outputs": [
    {
     "data": {
      "text/html": [
       "<div>\n",
       "<style scoped>\n",
       "    .dataframe tbody tr th:only-of-type {\n",
       "        vertical-align: middle;\n",
       "    }\n",
       "\n",
       "    .dataframe tbody tr th {\n",
       "        vertical-align: top;\n",
       "    }\n",
       "\n",
       "    .dataframe thead th {\n",
       "        text-align: right;\n",
       "    }\n",
       "</style>\n",
       "<table border=\"1\" class=\"dataframe\">\n",
       "  <thead>\n",
       "    <tr style=\"text-align: right;\">\n",
       "      <th></th>\n",
       "      <th>id</th>\n",
       "      <th>release_date</th>\n",
       "      <th>movie</th>\n",
       "      <th>production_budget</th>\n",
       "      <th>domestic_gross</th>\n",
       "      <th>worldwide_gross</th>\n",
       "    </tr>\n",
       "  </thead>\n",
       "  <tbody>\n",
       "    <tr>\n",
       "      <th>5</th>\n",
       "      <td>6</td>\n",
       "      <td>Dec 18, 2015</td>\n",
       "      <td>Star Wars Ep. VII: The Force Awakens</td>\n",
       "      <td>$306,000,000</td>\n",
       "      <td>$936,662,225</td>\n",
       "      <td>$2,053,311,220</td>\n",
       "    </tr>\n",
       "    <tr>\n",
       "      <th>500</th>\n",
       "      <td>1</td>\n",
       "      <td>Jun 8, 2007</td>\n",
       "      <td>Ocean's Thirteen</td>\n",
       "      <td>$85,000,000</td>\n",
       "      <td>$117,144,465</td>\n",
       "      <td>$311,744,465</td>\n",
       "    </tr>\n",
       "    <tr>\n",
       "      <th>5000</th>\n",
       "      <td>1</td>\n",
       "      <td>Dec 1, 2015</td>\n",
       "      <td>Shark Lake</td>\n",
       "      <td>$2,000,000</td>\n",
       "      <td>$0</td>\n",
       "      <td>$0</td>\n",
       "    </tr>\n",
       "  </tbody>\n",
       "</table>\n",
       "</div>"
      ],
      "text/plain": [
       "      id  release_date                                 movie  \\\n",
       "5      6  Dec 18, 2015  Star Wars Ep. VII: The Force Awakens   \n",
       "500    1   Jun 8, 2007                      Ocean's Thirteen   \n",
       "5000   1   Dec 1, 2015                            Shark Lake   \n",
       "\n",
       "     production_budget domestic_gross worldwide_gross  \n",
       "5         $306,000,000   $936,662,225  $2,053,311,220  \n",
       "500        $85,000,000   $117,144,465    $311,744,465  \n",
       "5000        $2,000,000             $0              $0  "
      ]
     },
     "execution_count": 2,
     "metadata": {},
     "output_type": "execute_result"
    }
   ],
   "source": [
    "# create The Numbers data frame\n",
    "tn_movie_budgets_df = pd.read_csv('../zippedData/tn.movie_budgets.csv.gz')\n",
    "# show it contains movies, both big and small\n",
    "tn_movie_budgets_df.iloc[[5, 500, 5000]]"
   ]
  },
  {
   "cell_type": "markdown",
   "metadata": {
    "hidden": true
   },
   "source": [
    "### Data Cleaning\n",
    "We realized in the early stages of data exploration that until we correctly formatted the currency columns that we could not use those figures in our data processing. Therefore we made a helper function to the necessary transformations in the most efficient way. "
   ]
  },
  {
   "cell_type": "code",
   "execution_count": 3,
   "metadata": {
    "hidden": true
   },
   "outputs": [],
   "source": [
    "#Helper function to clean the money columns\n",
    "def convert_money_string(money_series):\n",
    "    '''\n",
    "    This function takes a pd.Series wi+th string values representing money (USD) and converts that string to float\n",
    "    '''\n",
    "    return money_series.str.replace('$','').str.replace(',','').astype(float)"
   ]
  },
  {
   "cell_type": "code",
   "execution_count": 4,
   "metadata": {
    "hidden": true
   },
   "outputs": [],
   "source": [
    "# Here we clean special characters out of the money strings, convert the strings into floats,\n",
    "# and then create column of values in millions of dollars\n",
    "for col in ['production_budget', 'domestic_gross', 'worldwide_gross']:\n",
    "    tn_movie_budgets_df[col] = convert_money_string(tn_movie_budgets_df[col])\n",
    "    col_mil = f\"{col}_mil\"\n",
    "    tn_movie_budgets_df[col_mil] = tn_movie_budgets_df[col] / 1000000"
   ]
  },
  {
   "cell_type": "markdown",
   "metadata": {
    "hidden": true
   },
   "source": [
    "### Feature Engineering\n",
    "\n",
    "We used the transformed data to calculate the necessary processed data columns: total profit and return on investment (ROI)"
   ]
  },
  {
   "cell_type": "code",
   "execution_count": 5,
   "metadata": {
    "hidden": true
   },
   "outputs": [],
   "source": [
    "# Here we calculated worldwide_profit in millions for each movie\n",
    "tn_movie_budgets_df['worldwide_profit_mil'] = tn_movie_budgets_df['worldwide_gross_mil'] - tn_movie_budgets_df['production_budget_mil']\n",
    "# Here we calculated return on investment for each movie\n",
    "tn_movie_budgets_df['ROI'] = tn_movie_budgets_df['worldwide_profit_mil'] / tn_movie_budgets_df['production_budget_mil']"
   ]
  },
  {
   "cell_type": "markdown",
   "metadata": {
    "heading_collapsed": true
   },
   "source": [
    "## Box Office Mojo Data\n",
    "\n",
    "Data from Box Office Mojo was catergorized by movie title, studio and release date and also included figures for gross revenue. We utlimately decided to use this data because of the unique catergorisation by studio. This allowed us to provide an analysis into Microsoft Studios future competitors and supply recommendations that are congruent with the type of resources that Microsoft Studios will be backed by. "
   ]
  },
  {
   "cell_type": "code",
   "execution_count": 6,
   "metadata": {
    "hidden": true,
    "scrolled": true
   },
   "outputs": [
    {
     "data": {
      "text/html": [
       "<div>\n",
       "<style scoped>\n",
       "    .dataframe tbody tr th:only-of-type {\n",
       "        vertical-align: middle;\n",
       "    }\n",
       "\n",
       "    .dataframe tbody tr th {\n",
       "        vertical-align: top;\n",
       "    }\n",
       "\n",
       "    .dataframe thead th {\n",
       "        text-align: right;\n",
       "    }\n",
       "</style>\n",
       "<table border=\"1\" class=\"dataframe\">\n",
       "  <thead>\n",
       "    <tr style=\"text-align: right;\">\n",
       "      <th></th>\n",
       "      <th>title</th>\n",
       "      <th>studio</th>\n",
       "      <th>domestic_gross</th>\n",
       "      <th>foreign_gross</th>\n",
       "      <th>year</th>\n",
       "    </tr>\n",
       "  </thead>\n",
       "  <tbody>\n",
       "    <tr>\n",
       "      <th>3</th>\n",
       "      <td>Inception</td>\n",
       "      <td>WB</td>\n",
       "      <td>292600000.00</td>\n",
       "      <td>535700000</td>\n",
       "      <td>2010</td>\n",
       "    </tr>\n",
       "    <tr>\n",
       "      <th>300</th>\n",
       "      <td>Saint John of Las Vegas</td>\n",
       "      <td>IVP</td>\n",
       "      <td>103000.00</td>\n",
       "      <td>9100</td>\n",
       "      <td>2010</td>\n",
       "    </tr>\n",
       "    <tr>\n",
       "      <th>3000</th>\n",
       "      <td>My Life as a Zucchini</td>\n",
       "      <td>GK</td>\n",
       "      <td>310000.00</td>\n",
       "      <td>NaN</td>\n",
       "      <td>2017</td>\n",
       "    </tr>\n",
       "  </tbody>\n",
       "</table>\n",
       "</div>"
      ],
      "text/plain": [
       "                        title studio  domestic_gross foreign_gross  year\n",
       "3                   Inception     WB    292600000.00     535700000  2010\n",
       "300   Saint John of Las Vegas    IVP       103000.00          9100  2010\n",
       "3000    My Life as a Zucchini     GK       310000.00           NaN  2017"
      ]
     },
     "execution_count": 6,
     "metadata": {},
     "output_type": "execute_result"
    }
   ],
   "source": [
    "# Here we read in the Box Office Mojo data frame\n",
    "bom_df = pd.read_csv('../zippedData/bom.movie_gross.csv.gz')\n",
    "# once again to show variety of movies in the data frame\n",
    "bom_df.iloc[[3,300,3000]]"
   ]
  },
  {
   "cell_type": "code",
   "execution_count": 48,
   "metadata": {
    "hidden": true
   },
   "outputs": [
    {
     "data": {
      "text/html": [
       "<div>\n",
       "<style scoped>\n",
       "    .dataframe tbody tr th:only-of-type {\n",
       "        vertical-align: middle;\n",
       "    }\n",
       "\n",
       "    .dataframe tbody tr th {\n",
       "        vertical-align: top;\n",
       "    }\n",
       "\n",
       "    .dataframe thead th {\n",
       "        text-align: right;\n",
       "    }\n",
       "</style>\n",
       "<table border=\"1\" class=\"dataframe\">\n",
       "  <thead>\n",
       "    <tr style=\"text-align: right;\">\n",
       "      <th></th>\n",
       "      <th>title</th>\n",
       "      <th>studio</th>\n",
       "      <th>domestic_gross</th>\n",
       "      <th>foreign_gross</th>\n",
       "      <th>year</th>\n",
       "      <th>foreign_gross_mil</th>\n",
       "      <th>domestic_gross_mil</th>\n",
       "      <th>bom_worldwide_gross_mil</th>\n",
       "    </tr>\n",
       "  </thead>\n",
       "  <tbody>\n",
       "    <tr>\n",
       "      <th>0</th>\n",
       "      <td>Toy Story 3</td>\n",
       "      <td>BV</td>\n",
       "      <td>415000000.00</td>\n",
       "      <td>652000000.00</td>\n",
       "      <td>2010</td>\n",
       "      <td>652.00</td>\n",
       "      <td>415.00</td>\n",
       "      <td>1067.00</td>\n",
       "    </tr>\n",
       "    <tr>\n",
       "      <th>1</th>\n",
       "      <td>Alice in Wonderland (2010)</td>\n",
       "      <td>BV</td>\n",
       "      <td>334200000.00</td>\n",
       "      <td>691300000.00</td>\n",
       "      <td>2010</td>\n",
       "      <td>691.30</td>\n",
       "      <td>334.20</td>\n",
       "      <td>1025.50</td>\n",
       "    </tr>\n",
       "    <tr>\n",
       "      <th>2</th>\n",
       "      <td>Harry Potter and the Deathly Hallows Part 1</td>\n",
       "      <td>WB</td>\n",
       "      <td>296000000.00</td>\n",
       "      <td>664300000.00</td>\n",
       "      <td>2010</td>\n",
       "      <td>664.30</td>\n",
       "      <td>296.00</td>\n",
       "      <td>960.30</td>\n",
       "    </tr>\n",
       "    <tr>\n",
       "      <th>3</th>\n",
       "      <td>Inception</td>\n",
       "      <td>WB</td>\n",
       "      <td>292600000.00</td>\n",
       "      <td>535700000.00</td>\n",
       "      <td>2010</td>\n",
       "      <td>535.70</td>\n",
       "      <td>292.60</td>\n",
       "      <td>828.30</td>\n",
       "    </tr>\n",
       "    <tr>\n",
       "      <th>4</th>\n",
       "      <td>Shrek Forever After</td>\n",
       "      <td>P/DW</td>\n",
       "      <td>238700000.00</td>\n",
       "      <td>513900000.00</td>\n",
       "      <td>2010</td>\n",
       "      <td>513.90</td>\n",
       "      <td>238.70</td>\n",
       "      <td>752.60</td>\n",
       "    </tr>\n",
       "    <tr>\n",
       "      <th>...</th>\n",
       "      <td>...</td>\n",
       "      <td>...</td>\n",
       "      <td>...</td>\n",
       "      <td>...</td>\n",
       "      <td>...</td>\n",
       "      <td>...</td>\n",
       "      <td>...</td>\n",
       "      <td>...</td>\n",
       "    </tr>\n",
       "    <tr>\n",
       "      <th>3382</th>\n",
       "      <td>The Quake</td>\n",
       "      <td>Magn.</td>\n",
       "      <td>6200.00</td>\n",
       "      <td>0.00</td>\n",
       "      <td>2018</td>\n",
       "      <td>0.00</td>\n",
       "      <td>0.01</td>\n",
       "      <td>0.01</td>\n",
       "    </tr>\n",
       "    <tr>\n",
       "      <th>3383</th>\n",
       "      <td>Edward II (2018 re-release)</td>\n",
       "      <td>FM</td>\n",
       "      <td>4800.00</td>\n",
       "      <td>0.00</td>\n",
       "      <td>2018</td>\n",
       "      <td>0.00</td>\n",
       "      <td>0.00</td>\n",
       "      <td>0.00</td>\n",
       "    </tr>\n",
       "    <tr>\n",
       "      <th>3384</th>\n",
       "      <td>El Pacto</td>\n",
       "      <td>Sony</td>\n",
       "      <td>2500.00</td>\n",
       "      <td>0.00</td>\n",
       "      <td>2018</td>\n",
       "      <td>0.00</td>\n",
       "      <td>0.00</td>\n",
       "      <td>0.00</td>\n",
       "    </tr>\n",
       "    <tr>\n",
       "      <th>3385</th>\n",
       "      <td>The Swan</td>\n",
       "      <td>Synergetic</td>\n",
       "      <td>2400.00</td>\n",
       "      <td>0.00</td>\n",
       "      <td>2018</td>\n",
       "      <td>0.00</td>\n",
       "      <td>0.00</td>\n",
       "      <td>0.00</td>\n",
       "    </tr>\n",
       "    <tr>\n",
       "      <th>3386</th>\n",
       "      <td>An Actor Prepares</td>\n",
       "      <td>Grav.</td>\n",
       "      <td>1700.00</td>\n",
       "      <td>0.00</td>\n",
       "      <td>2018</td>\n",
       "      <td>0.00</td>\n",
       "      <td>0.00</td>\n",
       "      <td>0.00</td>\n",
       "    </tr>\n",
       "  </tbody>\n",
       "</table>\n",
       "<p>3387 rows × 8 columns</p>\n",
       "</div>"
      ],
      "text/plain": [
       "                                            title      studio  domestic_gross  \\\n",
       "0                                     Toy Story 3          BV    415000000.00   \n",
       "1                      Alice in Wonderland (2010)          BV    334200000.00   \n",
       "2     Harry Potter and the Deathly Hallows Part 1          WB    296000000.00   \n",
       "3                                       Inception          WB    292600000.00   \n",
       "4                             Shrek Forever After        P/DW    238700000.00   \n",
       "...                                           ...         ...             ...   \n",
       "3382                                    The Quake       Magn.         6200.00   \n",
       "3383                  Edward II (2018 re-release)          FM         4800.00   \n",
       "3384                                     El Pacto        Sony         2500.00   \n",
       "3385                                     The Swan  Synergetic         2400.00   \n",
       "3386                            An Actor Prepares       Grav.         1700.00   \n",
       "\n",
       "      foreign_gross  year  foreign_gross_mil  domestic_gross_mil  \\\n",
       "0      652000000.00  2010             652.00              415.00   \n",
       "1      691300000.00  2010             691.30              334.20   \n",
       "2      664300000.00  2010             664.30              296.00   \n",
       "3      535700000.00  2010             535.70              292.60   \n",
       "4      513900000.00  2010             513.90              238.70   \n",
       "...             ...   ...                ...                 ...   \n",
       "3382           0.00  2018               0.00                0.01   \n",
       "3383           0.00  2018               0.00                0.00   \n",
       "3384           0.00  2018               0.00                0.00   \n",
       "3385           0.00  2018               0.00                0.00   \n",
       "3386           0.00  2018               0.00                0.00   \n",
       "\n",
       "      bom_worldwide_gross_mil  \n",
       "0                     1067.00  \n",
       "1                     1025.50  \n",
       "2                      960.30  \n",
       "3                      828.30  \n",
       "4                      752.60  \n",
       "...                       ...  \n",
       "3382                     0.01  \n",
       "3383                     0.00  \n",
       "3384                     0.00  \n",
       "3385                     0.00  \n",
       "3386                     0.00  \n",
       "\n",
       "[3387 rows x 8 columns]"
      ]
     },
     "execution_count": 48,
     "metadata": {},
     "output_type": "execute_result"
    }
   ],
   "source": [
    "bom_df"
   ]
  },
  {
   "cell_type": "markdown",
   "metadata": {
    "hidden": true
   },
   "source": [
    "### Data Cleaning"
   ]
  },
  {
   "cell_type": "markdown",
   "metadata": {
    "hidden": true
   },
   "source": [
    "This dataset was cleaned in a two-step process. First we converted each currency column into a float and we replaced all the null values across the numeric columns with 0. These changes were again done to calculate the necessary numerical data."
   ]
  },
  {
   "cell_type": "code",
   "execution_count": 7,
   "metadata": {
    "hidden": true
   },
   "outputs": [],
   "source": [
    "# Call convert_money_string on foreign_gross to get floats\n",
    "for col in ['foreign_gross']:\n",
    "    bom_df[col] = convert_money_string(bom_df[col])\n",
    "    col_mil = f\"{col}_mil\"\n",
    "    bom_df[col_mil] = bom_df[col] / 1000000"
   ]
  },
  {
   "cell_type": "code",
   "execution_count": 8,
   "metadata": {
    "hidden": true
   },
   "outputs": [],
   "source": [
    "# Here we are infering that missing values actually represent no money made in a given region\n",
    "bom_df['foreign_gross'].fillna(0, inplace=True)\n",
    "bom_df['domestic_gross'].fillna(0, inplace=True)\n",
    "bom_df['foreign_gross_mil'].fillna(0, inplace=True)"
   ]
  },
  {
   "cell_type": "markdown",
   "metadata": {
    "hidden": true
   },
   "source": [
    "### Feature Engineering\n",
    "\n",
    "We wanted to see the examine the relationship between domestic and foreign gross so we created the worldwide gross column as well as converted the domestic gross into millions to make our final graphs more readable.\n"
   ]
  },
  {
   "cell_type": "code",
   "execution_count": 9,
   "metadata": {
    "hidden": true
   },
   "outputs": [],
   "source": [
    "bom_df['domestic_gross_mil'] = bom_df['domestic_gross'] / 1000000\n",
    "bom_df['bom_worldwide_gross_mil'] = bom_df['domestic_gross_mil'] + bom_df['foreign_gross_mil']"
   ]
  },
  {
   "cell_type": "markdown",
   "metadata": {},
   "source": [
    "## Internet Movie Database (IMDb) SQL database\n",
    "\n",
    "This data set contained copious amounts of information including tables containing movie names, movie rating, directors, actors etc. It was a journey to not only navigate through all the different tables but also navigating the relationships between these tables. That is why we have included the ERD."
   ]
  },
  {
   "attachments": {
    "movie_data_erd.jpeg": {
     "image/jpeg": "[encoded data removed]"
    }
   },
   "cell_type": "markdown",
   "metadata": {},
   "source": [
    "![movie_data_erd.jpeg](attachment:movie_data_erd.jpeg)\n",
    "\n"
   ]
  },
  {
   "cell_type": "markdown",
   "metadata": {
    "heading_collapsed": true
   },
   "source": [
    "### Used SQL to get info about `movie_basics` and `movie_ratings`\n"
   ]
  },
  {
   "cell_type": "code",
   "execution_count": 10,
   "metadata": {
    "hidden": true
   },
   "outputs": [],
   "source": [
    "# Create the connect to im.db database\n",
    "con = sqlite3.connect('../zippedData/im.db')"
   ]
  },
  {
   "cell_type": "markdown",
   "metadata": {
    "hidden": true
   },
   "source": [
    "#### movie_ratings table : contains`averagerating` and `numvotes` are columns of IMDb ratings"
   ]
  },
  {
   "cell_type": "code",
   "execution_count": 11,
   "metadata": {
    "hidden": true
   },
   "outputs": [
    {
     "data": {
      "text/html": [
       "<div>\n",
       "<style scoped>\n",
       "    .dataframe tbody tr th:only-of-type {\n",
       "        vertical-align: middle;\n",
       "    }\n",
       "\n",
       "    .dataframe tbody tr th {\n",
       "        vertical-align: top;\n",
       "    }\n",
       "\n",
       "    .dataframe thead th {\n",
       "        text-align: right;\n",
       "    }\n",
       "</style>\n",
       "<table border=\"1\" class=\"dataframe\">\n",
       "  <thead>\n",
       "    <tr style=\"text-align: right;\">\n",
       "      <th></th>\n",
       "      <th>movie_id</th>\n",
       "      <th>averagerating</th>\n",
       "      <th>numvotes</th>\n",
       "    </tr>\n",
       "  </thead>\n",
       "  <tbody>\n",
       "    <tr>\n",
       "      <th>0</th>\n",
       "      <td>tt10356526</td>\n",
       "      <td>8.30</td>\n",
       "      <td>31</td>\n",
       "    </tr>\n",
       "    <tr>\n",
       "      <th>1</th>\n",
       "      <td>tt10384606</td>\n",
       "      <td>8.90</td>\n",
       "      <td>559</td>\n",
       "    </tr>\n",
       "    <tr>\n",
       "      <th>2</th>\n",
       "      <td>tt1042974</td>\n",
       "      <td>6.40</td>\n",
       "      <td>20</td>\n",
       "    </tr>\n",
       "    <tr>\n",
       "      <th>3</th>\n",
       "      <td>tt1043726</td>\n",
       "      <td>4.20</td>\n",
       "      <td>50352</td>\n",
       "    </tr>\n",
       "    <tr>\n",
       "      <th>4</th>\n",
       "      <td>tt1060240</td>\n",
       "      <td>6.50</td>\n",
       "      <td>21</td>\n",
       "    </tr>\n",
       "  </tbody>\n",
       "</table>\n",
       "</div>"
      ],
      "text/plain": [
       "     movie_id  averagerating  numvotes\n",
       "0  tt10356526           8.30        31\n",
       "1  tt10384606           8.90       559\n",
       "2   tt1042974           6.40        20\n",
       "3   tt1043726           4.20     50352\n",
       "4   tt1060240           6.50        21"
      ]
     },
     "execution_count": 11,
     "metadata": {},
     "output_type": "execute_result"
    }
   ],
   "source": [
    "# What do sample values look like?\n",
    "pd.read_sql(\"\"\"\n",
    "SELECT\n",
    "    *\n",
    "FROM\n",
    "    movie_ratings\n",
    "LIMIT 5\n",
    "\"\"\", con)"
   ]
  },
  {
   "cell_type": "markdown",
   "metadata": {
    "hidden": true
   },
   "source": [
    "#### movie_basics table : contains `primary_title`,`genres` and `start_year`"
   ]
  },
  {
   "cell_type": "code",
   "execution_count": 12,
   "metadata": {
    "hidden": true
   },
   "outputs": [
    {
     "data": {
      "text/html": [
       "<div>\n",
       "<style scoped>\n",
       "    .dataframe tbody tr th:only-of-type {\n",
       "        vertical-align: middle;\n",
       "    }\n",
       "\n",
       "    .dataframe tbody tr th {\n",
       "        vertical-align: top;\n",
       "    }\n",
       "\n",
       "    .dataframe thead th {\n",
       "        text-align: right;\n",
       "    }\n",
       "</style>\n",
       "<table border=\"1\" class=\"dataframe\">\n",
       "  <thead>\n",
       "    <tr style=\"text-align: right;\">\n",
       "      <th></th>\n",
       "      <th>movie_id</th>\n",
       "      <th>primary_title</th>\n",
       "      <th>original_title</th>\n",
       "      <th>start_year</th>\n",
       "      <th>runtime_minutes</th>\n",
       "      <th>genres</th>\n",
       "    </tr>\n",
       "  </thead>\n",
       "  <tbody>\n",
       "    <tr>\n",
       "      <th>0</th>\n",
       "      <td>tt0063540</td>\n",
       "      <td>Sunghursh</td>\n",
       "      <td>Sunghursh</td>\n",
       "      <td>2013</td>\n",
       "      <td>175.00</td>\n",
       "      <td>Action,Crime,Drama</td>\n",
       "    </tr>\n",
       "    <tr>\n",
       "      <th>1</th>\n",
       "      <td>tt0066787</td>\n",
       "      <td>One Day Before the Rainy Season</td>\n",
       "      <td>Ashad Ka Ek Din</td>\n",
       "      <td>2019</td>\n",
       "      <td>114.00</td>\n",
       "      <td>Biography,Drama</td>\n",
       "    </tr>\n",
       "    <tr>\n",
       "      <th>2</th>\n",
       "      <td>tt0069049</td>\n",
       "      <td>The Other Side of the Wind</td>\n",
       "      <td>The Other Side of the Wind</td>\n",
       "      <td>2018</td>\n",
       "      <td>122.00</td>\n",
       "      <td>Drama</td>\n",
       "    </tr>\n",
       "    <tr>\n",
       "      <th>3</th>\n",
       "      <td>tt0069204</td>\n",
       "      <td>Sabse Bada Sukh</td>\n",
       "      <td>Sabse Bada Sukh</td>\n",
       "      <td>2018</td>\n",
       "      <td>nan</td>\n",
       "      <td>Comedy,Drama</td>\n",
       "    </tr>\n",
       "    <tr>\n",
       "      <th>4</th>\n",
       "      <td>tt0100275</td>\n",
       "      <td>The Wandering Soap Opera</td>\n",
       "      <td>La Telenovela Errante</td>\n",
       "      <td>2017</td>\n",
       "      <td>80.00</td>\n",
       "      <td>Comedy,Drama,Fantasy</td>\n",
       "    </tr>\n",
       "  </tbody>\n",
       "</table>\n",
       "</div>"
      ],
      "text/plain": [
       "    movie_id                    primary_title              original_title  \\\n",
       "0  tt0063540                        Sunghursh                   Sunghursh   \n",
       "1  tt0066787  One Day Before the Rainy Season             Ashad Ka Ek Din   \n",
       "2  tt0069049       The Other Side of the Wind  The Other Side of the Wind   \n",
       "3  tt0069204                  Sabse Bada Sukh             Sabse Bada Sukh   \n",
       "4  tt0100275         The Wandering Soap Opera       La Telenovela Errante   \n",
       "\n",
       "   start_year  runtime_minutes                genres  \n",
       "0        2013           175.00    Action,Crime,Drama  \n",
       "1        2019           114.00       Biography,Drama  \n",
       "2        2018           122.00                 Drama  \n",
       "3        2018              nan          Comedy,Drama  \n",
       "4        2017            80.00  Comedy,Drama,Fantasy  "
      ]
     },
     "execution_count": 12,
     "metadata": {},
     "output_type": "execute_result"
    }
   ],
   "source": [
    "# What do sample values look like?\n",
    "pd.read_sql(\"\"\"\n",
    "SELECT\n",
    "    *\n",
    "FROM\n",
    "    movie_basics\n",
    "LIMIT 5\n",
    "\"\"\", con)"
   ]
  },
  {
   "cell_type": "markdown",
   "metadata": {},
   "source": [
    "### Used SQL to filter infomation about   `persons` and `principals`"
   ]
  },
  {
   "cell_type": "markdown",
   "metadata": {
    "heading_collapsed": true
   },
   "source": [
    "#### persons table : contains `primary_name`and `person_id`"
   ]
  },
  {
   "cell_type": "code",
   "execution_count": 13,
   "metadata": {
    "hidden": true,
    "scrolled": true
   },
   "outputs": [
    {
     "data": {
      "text/html": [
       "<div>\n",
       "<style scoped>\n",
       "    .dataframe tbody tr th:only-of-type {\n",
       "        vertical-align: middle;\n",
       "    }\n",
       "\n",
       "    .dataframe tbody tr th {\n",
       "        vertical-align: top;\n",
       "    }\n",
       "\n",
       "    .dataframe thead th {\n",
       "        text-align: right;\n",
       "    }\n",
       "</style>\n",
       "<table border=\"1\" class=\"dataframe\">\n",
       "  <thead>\n",
       "    <tr style=\"text-align: right;\">\n",
       "      <th></th>\n",
       "      <th>person_id</th>\n",
       "      <th>primary_name</th>\n",
       "      <th>birth_year</th>\n",
       "      <th>death_year</th>\n",
       "      <th>primary_profession</th>\n",
       "    </tr>\n",
       "  </thead>\n",
       "  <tbody>\n",
       "    <tr>\n",
       "      <th>0</th>\n",
       "      <td>nm0061671</td>\n",
       "      <td>Mary Ellen Bauder</td>\n",
       "      <td>None</td>\n",
       "      <td>None</td>\n",
       "      <td>miscellaneous,production_manager,producer</td>\n",
       "    </tr>\n",
       "    <tr>\n",
       "      <th>1</th>\n",
       "      <td>nm0061865</td>\n",
       "      <td>Joseph Bauer</td>\n",
       "      <td>None</td>\n",
       "      <td>None</td>\n",
       "      <td>composer,music_department,sound_department</td>\n",
       "    </tr>\n",
       "    <tr>\n",
       "      <th>2</th>\n",
       "      <td>nm0062070</td>\n",
       "      <td>Bruce Baum</td>\n",
       "      <td>None</td>\n",
       "      <td>None</td>\n",
       "      <td>miscellaneous,actor,writer</td>\n",
       "    </tr>\n",
       "    <tr>\n",
       "      <th>3</th>\n",
       "      <td>nm0062195</td>\n",
       "      <td>Axel Baumann</td>\n",
       "      <td>None</td>\n",
       "      <td>None</td>\n",
       "      <td>camera_department,cinematographer,art_department</td>\n",
       "    </tr>\n",
       "    <tr>\n",
       "      <th>4</th>\n",
       "      <td>nm0062798</td>\n",
       "      <td>Pete Baxter</td>\n",
       "      <td>None</td>\n",
       "      <td>None</td>\n",
       "      <td>production_designer,art_department,set_decorator</td>\n",
       "    </tr>\n",
       "  </tbody>\n",
       "</table>\n",
       "</div>"
      ],
      "text/plain": [
       "   person_id       primary_name birth_year death_year  \\\n",
       "0  nm0061671  Mary Ellen Bauder       None       None   \n",
       "1  nm0061865       Joseph Bauer       None       None   \n",
       "2  nm0062070         Bruce Baum       None       None   \n",
       "3  nm0062195       Axel Baumann       None       None   \n",
       "4  nm0062798        Pete Baxter       None       None   \n",
       "\n",
       "                                 primary_profession  \n",
       "0         miscellaneous,production_manager,producer  \n",
       "1        composer,music_department,sound_department  \n",
       "2                        miscellaneous,actor,writer  \n",
       "3  camera_department,cinematographer,art_department  \n",
       "4  production_designer,art_department,set_decorator  "
      ]
     },
     "execution_count": 13,
     "metadata": {},
     "output_type": "execute_result"
    }
   ],
   "source": [
    "# What do sample values look like?\n",
    "pd.read_sql(\"\"\"\n",
    "SELECT\n",
    "    *\n",
    "FROM\n",
    "    persons\n",
    "LIMIT 5\n",
    "\"\"\", con)"
   ]
  },
  {
   "cell_type": "markdown",
   "metadata": {
    "heading_collapsed": true
   },
   "source": [
    "#### principals table: contains `category` ,`movie_id` and `person_id`"
   ]
  },
  {
   "cell_type": "code",
   "execution_count": 14,
   "metadata": {
    "hidden": true,
    "scrolled": true
   },
   "outputs": [
    {
     "data": {
      "text/html": [
       "<div>\n",
       "<style scoped>\n",
       "    .dataframe tbody tr th:only-of-type {\n",
       "        vertical-align: middle;\n",
       "    }\n",
       "\n",
       "    .dataframe tbody tr th {\n",
       "        vertical-align: top;\n",
       "    }\n",
       "\n",
       "    .dataframe thead th {\n",
       "        text-align: right;\n",
       "    }\n",
       "</style>\n",
       "<table border=\"1\" class=\"dataframe\">\n",
       "  <thead>\n",
       "    <tr style=\"text-align: right;\">\n",
       "      <th></th>\n",
       "      <th>movie_id</th>\n",
       "      <th>ordering</th>\n",
       "      <th>person_id</th>\n",
       "      <th>category</th>\n",
       "      <th>job</th>\n",
       "      <th>characters</th>\n",
       "    </tr>\n",
       "  </thead>\n",
       "  <tbody>\n",
       "    <tr>\n",
       "      <th>0</th>\n",
       "      <td>tt0111414</td>\n",
       "      <td>1</td>\n",
       "      <td>nm0246005</td>\n",
       "      <td>actor</td>\n",
       "      <td>None</td>\n",
       "      <td>[\"The Man\"]</td>\n",
       "    </tr>\n",
       "    <tr>\n",
       "      <th>1</th>\n",
       "      <td>tt0111414</td>\n",
       "      <td>2</td>\n",
       "      <td>nm0398271</td>\n",
       "      <td>director</td>\n",
       "      <td>None</td>\n",
       "      <td>None</td>\n",
       "    </tr>\n",
       "    <tr>\n",
       "      <th>2</th>\n",
       "      <td>tt0111414</td>\n",
       "      <td>3</td>\n",
       "      <td>nm3739909</td>\n",
       "      <td>producer</td>\n",
       "      <td>producer</td>\n",
       "      <td>None</td>\n",
       "    </tr>\n",
       "    <tr>\n",
       "      <th>3</th>\n",
       "      <td>tt0323808</td>\n",
       "      <td>10</td>\n",
       "      <td>nm0059247</td>\n",
       "      <td>editor</td>\n",
       "      <td>None</td>\n",
       "      <td>None</td>\n",
       "    </tr>\n",
       "    <tr>\n",
       "      <th>4</th>\n",
       "      <td>tt0323808</td>\n",
       "      <td>1</td>\n",
       "      <td>nm3579312</td>\n",
       "      <td>actress</td>\n",
       "      <td>None</td>\n",
       "      <td>[\"Beth Boothby\"]</td>\n",
       "    </tr>\n",
       "  </tbody>\n",
       "</table>\n",
       "</div>"
      ],
      "text/plain": [
       "    movie_id  ordering  person_id  category       job        characters\n",
       "0  tt0111414         1  nm0246005     actor      None       [\"The Man\"]\n",
       "1  tt0111414         2  nm0398271  director      None              None\n",
       "2  tt0111414         3  nm3739909  producer  producer              None\n",
       "3  tt0323808        10  nm0059247    editor      None              None\n",
       "4  tt0323808         1  nm3579312   actress      None  [\"Beth Boothby\"]"
      ]
     },
     "execution_count": 14,
     "metadata": {},
     "output_type": "execute_result"
    }
   ],
   "source": [
    "# What do sample values look like?\n",
    "pd.read_sql(\"\"\"\n",
    "SELECT\n",
    "    *\n",
    "FROM\n",
    "    principals\n",
    "LIMIT 5\n",
    "\"\"\", con)"
   ]
  },
  {
   "cell_type": "markdown",
   "metadata": {},
   "source": [
    "## Data Preparation\n",
    "\n",
    "We approached the data preperation by aggregating all the data across all the sources and seeing the insights we could gain from the data as a whole. "
   ]
  },
  {
   "cell_type": "markdown",
   "metadata": {},
   "source": [
    "#### Let's JOIN im.db `movie_basics`  and `movie_ratings`\n",
    "\n",
    "We Created an `imdb_ratings_df` DataFrame containing the joined names, genres, and ratings for each movie"
   ]
  },
  {
   "cell_type": "code",
   "execution_count": 51,
   "metadata": {},
   "outputs": [],
   "source": [
    "### Look into who the primary directors are\n",
    "# Use LEFT JOIN to keep all movies, even if they are not in the movie_ratings table\n",
    "imdb_ratings_df = pd.read_sql(\"\"\"\n",
    "\n",
    "SELECT\n",
    "    b.movie_id, b.primary_title, b.original_title, b.start_year, b.runtime_minutes, b.genres,\n",
    "    r.averagerating, r.numvotes\n",
    "FROM\n",
    "    movie_basics as b\n",
    "    LEFT JOIN movie_ratings as r\n",
    "        USING(movie_id)\n",
    "\n",
    "\"\"\", con)"
   ]
  },
  {
   "cell_type": "markdown",
   "metadata": {},
   "source": [
    "#### Let's JOIN im.db `persons`  and `principals`\n",
    "\n",
    "When we created the `imdb_principals_df` DataFrame, we noticed that `movie_id` and `person_id` had a one to many mapping(i.e., one `person_id` can have multiple roles in each `movie_id`). Therefore, the resulting data frame was too bulky to use again.\n",
    "   \n"
   ]
  },
  {
   "cell_type": "code",
   "execution_count": 52,
   "metadata": {},
   "outputs": [],
   "source": [
    "# Used LEFT JOIN to keep all principals, even if they have no persons info\n",
    "imdb_principals_df = pd.read_sql(\"\"\"\n",
    "\n",
    "SELECT\n",
    "    *\n",
    "FROM\n",
    "    principals\n",
    "    LEFT JOIN persons\n",
    "        USING(person_id)\n",
    "\n",
    "\"\"\", con)"
   ]
  },
  {
   "cell_type": "markdown",
   "metadata": {},
   "source": [
    "We still wanted to merge `imdb_ratings_df` **into** `imdb_principals_df` to find movie information for each principal."
   ]
  },
  {
   "cell_type": "code",
   "execution_count": 53,
   "metadata": {},
   "outputs": [],
   "source": [
    "# Merge imdb_ratings_df into imdb_principals_df \n",
    "# Use left join in order to keep all principalse\n",
    "imdb_principals_df = imdb_principals_df.merge(imdb_ratings_df, on='movie_id', how='left')"
   ]
  },
  {
   "cell_type": "markdown",
   "metadata": {
    "heading_collapsed": true
   },
   "source": [
    "## Filtration of the merged dataset\n",
    "\n",
    "To make recommendations on which movies Microsoft Studios should produce, we made three assumption: \n",
    "\n",
    "1. Microsoft wants to compete with the top 10% of movie studios in terms of performance \n",
    "2. Microsoft is not interested in producing \"art house\" movies that were not popular or profitable\n",
    "3. Microsoft wants to produce popular movies (with large following and high ratings)"
   ]
  },
  {
   "cell_type": "code",
   "execution_count": 54,
   "metadata": {
    "hidden": true,
    "scrolled": true
   },
   "outputs": [],
   "source": [
    "# Find the total worldwide gross for each studio\n",
    "bom_studio_gross = bom_df.groupby('studio')['bom_worldwide_gross_mil'].sum()"
   ]
  },
  {
   "cell_type": "code",
   "execution_count": 19,
   "metadata": {
    "hidden": true
   },
   "outputs": [],
   "source": [
    "# Now, let's focus on top studios (above 90th percentile in gross sales)\n",
    "gross_sales_90 = np.percentile(bom_studio_gross, 90)\n",
    "\n",
    "# Test studios in bom_studio_gross df to get list of top studios\n",
    "filt = bom_studio_gross > gross_sales_90\n",
    "competing_studios = bom_studio_gross[filt].index"
   ]
  },
  {
   "cell_type": "code",
   "execution_count": 20,
   "metadata": {
    "hidden": true
   },
   "outputs": [],
   "source": [
    "# Use that list of competing studios to filter \n",
    "filt = bom_df['studio'].isin(competing_studios)\n",
    "bom_competing_studios_df = bom_df[filt]"
   ]
  },
  {
   "cell_type": "markdown",
   "metadata": {
    "hidden": true
   },
   "source": [
    "### Let's get movie and budget info for movies made by the top grossing \"competing\" studios\n",
    "- Merge bom_competing_studios_df with tn_movie_budgets_df"
   ]
  },
  {
   "cell_type": "code",
   "execution_count": 22,
   "metadata": {
    "hidden": true
   },
   "outputs": [],
   "source": [
    "# We get multiple rows when we merge tn_movie_budgets_df\n",
    "# So add 'year' to use as additional key\n",
    "tn_movie_budgets_df['year'] = tn_movie_budgets_df['release_date'].str[-4:].astype(int)"
   ]
  },
  {
   "cell_type": "code",
   "execution_count": 23,
   "metadata": {
    "hidden": true,
    "scrolled": true
   },
   "outputs": [],
   "source": [
    "# Merge to add budgets\n",
    "competing_studio_budgets_df = bom_competing_studios_df.merge(tn_movie_budgets_df,\n",
    "                                                             left_on=['title', 'year'],\n",
    "                                                             right_on=['movie', 'year'],\n",
    "                                                             how='inner',\n",
    "                                                             suffixes=('_bom', '_tn')\n",
    "                                                            )"
   ]
  },
  {
   "cell_type": "code",
   "execution_count": 24,
   "metadata": {
    "hidden": true
   },
   "outputs": [],
   "source": [
    "# Another merge to add ratings\n",
    "competing_studio_budgets_ratings_df = competing_studio_budgets_df.merge(imdb_ratings_df,\n",
    "                                                                        left_on=['title', 'year'],\n",
    "                                                                        right_on=['primary_title', 'start_year'],\n",
    "                                                                        how='inner')"
   ]
  },
  {
   "cell_type": "markdown",
   "metadata": {},
   "source": [
    "## Analysis"
   ]
  },
  {
   "cell_type": "markdown",
   "metadata": {
    "heading_collapsed": true
   },
   "source": [
    "### How does production budget affect outcome?"
   ]
  },
  {
   "cell_type": "markdown",
   "metadata": {
    "heading_collapsed": true,
    "hidden": true
   },
   "source": [
    "#### Correlations with Production Budget"
   ]
  },
  {
   "cell_type": "markdown",
   "metadata": {
    "hidden": true
   },
   "source": [
    "| Business Outcome | Relationship with Production Budget |\n",
    "| ------------------ | -------------- |\n",
    "| worldwide_profit_mil | strong positive correlation |\n",
    "| ROI | no correlation |\n",
    "| averagerating | weak positive correlation |\n",
    "| numvotes | moderate positive correlation |"
   ]
  },
  {
   "cell_type": "code",
   "execution_count": 55,
   "metadata": {
    "hidden": true,
    "scrolled": true
   },
   "outputs": [
    {
     "data": {
      "text/plain": [
       "production_budget_mil    1.00\n",
       "worldwide_profit_mil     0.64\n",
       "ROI                     -0.09\n",
       "averagerating            0.18\n",
       "numvotes                 0.49\n",
       "Name: production_budget_mil, dtype: float64"
      ]
     },
     "execution_count": 55,
     "metadata": {},
     "output_type": "execute_result"
    }
   ],
   "source": [
    "# What are correlations with production budget?\n",
    "corr_budgets_ratings = competing_studio_budgets_ratings_df[['production_budget_mil', 'worldwide_profit_mil', \n",
    "                                                            'ROI', 'averagerating', 'numvotes']].corr()\n",
    "corr_budgets_ratings.iloc[0]"
   ]
  },
  {
   "cell_type": "code",
   "execution_count": 56,
   "metadata": {
    "hidden": true,
    "scrolled": false
   },
   "outputs": [
    {
     "data": {
      "image/png": "[encoded data removed]",
      "text/plain": [
       "<Figure size 468x468 with 1 Axes>"
      ]
     },
     "metadata": {
      "needs_background": "light"
     },
     "output_type": "display_data"
    }
   ],
   "source": [
    "fig, ax = plt.subplots(figsize=(6.5, 6.5))\n",
    "sns.regplot(x='production_budget_mil', y='worldwide_profit_mil', \n",
    "                data=competing_studio_budgets_ratings_df, ax=ax)\n",
    "ax.set_title('Production Budget Affects Profitability')\n",
    "ax.set_xlabel('Production Budget (mil)')\n",
    "ax.set_ylabel('Worldwide Profit (mil)')\n",
    "ax.ticklabel_format(style='plain')\n",
    "ax.grid(b=False);"
   ]
  },
  {
   "cell_type": "markdown",
   "metadata": {
    "hidden": true
   },
   "source": [
    "As production budget increases profitability increases "
   ]
  },
  {
   "cell_type": "code",
   "execution_count": 27,
   "metadata": {
    "hidden": true,
    "scrolled": false
   },
   "outputs": [
    {
     "data": {
      "image/png": "[encoded data removed]",
      "text/plain": [
       "<Figure size 468x468 with 1 Axes>"
      ]
     },
     "metadata": {
      "needs_background": "light"
     },
     "output_type": "display_data"
    }
   ],
   "source": [
    "fig, ax = plt.subplots(figsize=(6.5, 6.5))\n",
    "sns.regplot(x='production_budget_mil', y='numvotes', \n",
    "                data=competing_studio_budgets_ratings_df, ax=ax)\n",
    "ax.set_title('Production Budget Affects Viewer Interest')\n",
    "ax.set_xlabel('Production Budget (mil)')\n",
    "ax.set_ylabel('Number of votes in IMDb')\n",
    "ax.ticklabel_format(style='plain')\n",
    "ax.grid(b=False);"
   ]
  },
  {
   "cell_type": "markdown",
   "metadata": {
    "hidden": true
   },
   "source": [
    "As production budget increases viewer count increases"
   ]
  },
  {
   "cell_type": "code",
   "execution_count": 28,
   "metadata": {
    "hidden": true
   },
   "outputs": [
    {
     "name": "stdout",
     "output_type": "stream",
     "text": [
      "Production budget of the 90th percentile: $150.0 million\n"
     ]
    }
   ],
   "source": [
    "# If we're going to give concrete advise about how much to budget for excellent movies, what would we say\n",
    "# Again, let's suggest being an 'outlier'\n",
    "perc90_budget = np.percentile(competing_studio_budgets_ratings_df['production_budget_mil'], 90)\n",
    "print(f\"Production budget of the 90th percentile: ${perc90_budget} million\")"
   ]
  },
  {
   "cell_type": "markdown",
   "metadata": {
    "heading_collapsed": true
   },
   "source": [
    "### How does movie genre affect outcomes?\n"
   ]
  },
  {
   "cell_type": "code",
   "execution_count": 29,
   "metadata": {
    "hidden": true
   },
   "outputs": [],
   "source": [
    "set_of_genres = set()\n",
    "for movie_row in competing_studio_budgets_ratings_df['genres'].dropna():\n",
    "    set_of_genres.update(movie_row.split(','))\n",
    "\n",
    "list_of_genres = list(set_of_genres)"
   ]
  },
  {
   "cell_type": "markdown",
   "metadata": {
    "hidden": true
   },
   "source": [
    "Here we created a new data frame that contains rows for every genre. This allowed us to run `.groupby('genre')` to get summarizing statistics for each genre."
   ]
  },
  {
   "cell_type": "code",
   "execution_count": 30,
   "metadata": {
    "hidden": true
   },
   "outputs": [
    {
     "name": "stderr",
     "output_type": "stream",
     "text": [
      "<ipython-input-30-72870965b343>:9: SettingWithCopyWarning: \n",
      "A value is trying to be set on a copy of a slice from a DataFrame.\n",
      "Try using .loc[row_indexer,col_indexer] = value instead\n",
      "\n",
      "See the caveats in the documentation: https://pandas.pydata.org/pandas-docs/stable/user_guide/indexing.html#returning-a-view-versus-a-copy\n",
      "  filt_df['genre'] = genre\n"
     ]
    }
   ],
   "source": [
    "tmp_df_columns = list(competing_studio_budgets_ratings_df.columns)\n",
    "tmp_df_columns.append('genre')\n",
    "tmp_df = pd.DataFrame(columns=tmp_df_columns)\n",
    "\n",
    "\n",
    "for genre in list_of_genres:\n",
    "    filt = competing_studio_budgets_ratings_df['genres'].str.contains(genre, na=False)\n",
    "    filt_df = competing_studio_budgets_ratings_df[filt]\n",
    "    filt_df['genre'] = genre\n",
    "    tmp_df = pd.concat([tmp_df, filt_df])\n",
    "    \n",
    "long_competing_studio_budgets_ratings_df = tmp_df"
   ]
  },
  {
   "cell_type": "code",
   "execution_count": 31,
   "metadata": {
    "hidden": true
   },
   "outputs": [],
   "source": [
    "# Now that we have each genre dataframe stacked on top of each other, we can use .groupby to get mean() for each genre\n",
    "competing_studio_budgets_ratings_by_genre_df = long_competing_studio_budgets_ratings_df.groupby('genre')[['production_budget_mil', 'worldwide_profit_mil', 'ROI', 'averagerating', 'numvotes']].mean()"
   ]
  },
  {
   "cell_type": "code",
   "execution_count": 32,
   "metadata": {
    "hidden": true,
    "scrolled": false
   },
   "outputs": [
    {
     "data": {
      "image/png": "[encoded data removed]",
      "text/plain": [
       "<Figure size 468x468 with 1 Axes>"
      ]
     },
     "metadata": {
      "needs_background": "light"
     },
     "output_type": "display_data"
    }
   ],
   "source": [
    "tmp = competing_studio_budgets_ratings_by_genre_df.sort_values('ROI', ascending=False)['ROI'].head(8)\n",
    "\n",
    "fig, ax = plt.subplots(figsize=(6.5, 6.5))\n",
    "sns.barplot(y=tmp.index, \n",
    "            x=tmp.values,\n",
    "            palette=\"Blues_d\")\n",
    "ax.set_title('ROI by Movie Genre')\n",
    "ax.set_xlabel('ROI')\n",
    "ax.set_ylabel('Movie Genre in IMDb');"
   ]
  },
  {
   "cell_type": "markdown",
   "metadata": {
    "hidden": true
   },
   "source": [
    "ROI is highest for Documentary, Horror, Mystery, and Thriller."
   ]
  },
  {
   "cell_type": "code",
   "execution_count": 33,
   "metadata": {
    "hidden": true,
    "scrolled": true
   },
   "outputs": [
    {
     "data": {
      "image/png": "[encoded data removed]",
      "text/plain": [
       "<Figure size 468x468 with 1 Axes>"
      ]
     },
     "metadata": {
      "needs_background": "light"
     },
     "output_type": "display_data"
    }
   ],
   "source": [
    "tmp = competing_studio_budgets_ratings_by_genre_df.sort_values('worldwide_profit_mil', ascending=False)['worldwide_profit_mil'].head(8)\n",
    "\n",
    "fig, ax = plt.subplots(figsize=(6.5, 6.5))\n",
    "sns.barplot(y=tmp.index, \n",
    "            x=tmp.values,\n",
    "            palette=\"Blues_d\")\n",
    "ax.set_title('Profit by Movie Genre')\n",
    "ax.set_xlabel('Worldwide Profit (mil)')\n",
    "ax.set_ylabel('Movie Genre in IMDb');"
   ]
  },
  {
   "cell_type": "markdown",
   "metadata": {
    "hidden": true
   },
   "source": [
    "Average worldwide profit is highest for Animation, Sci-Fi, Adventure, Action"
   ]
  },
  {
   "cell_type": "code",
   "execution_count": 57,
   "metadata": {
    "hidden": true,
    "scrolled": false
   },
   "outputs": [
    {
     "data": {
      "image/png": "[encoded data removed]",
      "text/plain": [
       "<Figure size 468x468 with 1 Axes>"
      ]
     },
     "metadata": {
      "needs_background": "light"
     },
     "output_type": "display_data"
    }
   ],
   "source": [
    "tmp = competing_studio_budgets_ratings_by_genre_df.sort_values('numvotes', ascending=False)['numvotes'].head(8)\n",
    "\n",
    "fig, ax = plt.subplots(figsize=(6.5, 6.5))\n",
    "sns.barplot(y=tmp.index, \n",
    "            x=tmp.values,\n",
    "            palette=\"Blues_d\")\n",
    "ax.set_title('Interest by Movie Genre')\n",
    "ax.set_xlabel('Number of Votes in IMDb')\n",
    "ax.set_ylabel('Movie Genre in IMDb');"
   ]
  },
  {
   "cell_type": "markdown",
   "metadata": {
    "hidden": true
   },
   "source": [
    "Interest, depicted by the `numvotes` metric, is highest for Western, Sci-Fi, Adventure, Action"
   ]
  },
  {
   "cell_type": "markdown",
   "metadata": {},
   "source": [
    "### How do movie directors affect outcomes?\n"
   ]
  },
  {
   "cell_type": "markdown",
   "metadata": {},
   "source": [
    "We wanted to produce a list of the top directors based on profit, ROI and popularity (`numvotes`). We did this by creating a python set and then adding directors from each business outcome to the set."
   ]
  },
  {
   "cell_type": "code",
   "execution_count": 35,
   "metadata": {},
   "outputs": [],
   "source": [
    "# Let's make an empty set to save the best directors (we'll cast to list later)\n",
    "director_set = set()"
   ]
  },
  {
   "cell_type": "code",
   "execution_count": 36,
   "metadata": {},
   "outputs": [],
   "source": [
    "# created top 50 directors measured by worldwide profit\n",
    "top_50_worldwide_profit_df = competing_studio_budgets_ratings_df.sort_values('worldwide_profit_mil', ascending=False).head(50)\n",
    "# created top 50 directors measured by return on investment\n",
    "top_50_ROI_df = competing_studio_budgets_ratings_df.sort_values('ROI', ascending=False).head(50)\n",
    "# created top 50 directors measured by number of IMDb votes\n",
    "top_50_votes_df = competing_studio_budgets_ratings_df.sort_values('numvotes', ascending=False).head(50)"
   ]
  },
  {
   "cell_type": "code",
   "execution_count": 37,
   "metadata": {},
   "outputs": [],
   "source": [
    "principals_top_50_worldwide_profit_df = imdb_principals_df.merge(top_50_worldwide_profit_df, on='movie_id', how='inner')"
   ]
  },
  {
   "cell_type": "code",
   "execution_count": 38,
   "metadata": {},
   "outputs": [
    {
     "data": {
      "text/html": [
       "<div>\n",
       "<style scoped>\n",
       "    .dataframe tbody tr th:only-of-type {\n",
       "        vertical-align: middle;\n",
       "    }\n",
       "\n",
       "    .dataframe tbody tr th {\n",
       "        vertical-align: top;\n",
       "    }\n",
       "\n",
       "    .dataframe thead th {\n",
       "        text-align: right;\n",
       "    }\n",
       "</style>\n",
       "<table border=\"1\" class=\"dataframe\">\n",
       "  <thead>\n",
       "    <tr style=\"text-align: right;\">\n",
       "      <th></th>\n",
       "      <th>primary_name</th>\n",
       "      <th>primary_title_x</th>\n",
       "      <th>worldwide_profit_mil</th>\n",
       "    </tr>\n",
       "  </thead>\n",
       "  <tbody>\n",
       "    <tr>\n",
       "      <th>436</th>\n",
       "      <td>Joe Russo</td>\n",
       "      <td>Avengers: Infinity War</td>\n",
       "      <td>1748.13</td>\n",
       "    </tr>\n",
       "    <tr>\n",
       "      <th>435</th>\n",
       "      <td>Anthony Russo</td>\n",
       "      <td>Avengers: Infinity War</td>\n",
       "      <td>1748.13</td>\n",
       "    </tr>\n",
       "    <tr>\n",
       "      <th>35</th>\n",
       "      <td>Colin Trevorrow</td>\n",
       "      <td>Jurassic World</td>\n",
       "      <td>1433.85</td>\n",
       "    </tr>\n",
       "    <tr>\n",
       "      <th>455</th>\n",
       "      <td>James Wan</td>\n",
       "      <td>Furious 7</td>\n",
       "      <td>1328.72</td>\n",
       "    </tr>\n",
       "    <tr>\n",
       "      <th>85</th>\n",
       "      <td>Ryan Coogler</td>\n",
       "      <td>Black Panther</td>\n",
       "      <td>1148.26</td>\n",
       "    </tr>\n",
       "    <tr>\n",
       "      <th>465</th>\n",
       "      <td>J.A. Bayona</td>\n",
       "      <td>Jurassic World: Fallen Kingdom</td>\n",
       "      <td>1135.77</td>\n",
       "    </tr>\n",
       "    <tr>\n",
       "      <th>175</th>\n",
       "      <td>Chris Buck</td>\n",
       "      <td>Frozen</td>\n",
       "      <td>1122.47</td>\n",
       "    </tr>\n",
       "    <tr>\n",
       "      <th>176</th>\n",
       "      <td>Jennifer Lee</td>\n",
       "      <td>Frozen</td>\n",
       "      <td>1122.47</td>\n",
       "    </tr>\n",
       "    <tr>\n",
       "      <th>245</th>\n",
       "      <td>Kyle Balda</td>\n",
       "      <td>Minions</td>\n",
       "      <td>1086.34</td>\n",
       "    </tr>\n",
       "    <tr>\n",
       "      <th>375</th>\n",
       "      <td>Joss Whedon</td>\n",
       "      <td>Avengers: Age of Ultron</td>\n",
       "      <td>1072.41</td>\n",
       "    </tr>\n",
       "  </tbody>\n",
       "</table>\n",
       "</div>"
      ],
      "text/plain": [
       "        primary_name                 primary_title_x  worldwide_profit_mil\n",
       "436        Joe Russo          Avengers: Infinity War               1748.13\n",
       "435    Anthony Russo          Avengers: Infinity War               1748.13\n",
       "35   Colin Trevorrow                  Jurassic World               1433.85\n",
       "455        James Wan                       Furious 7               1328.72\n",
       "85      Ryan Coogler                   Black Panther               1148.26\n",
       "465      J.A. Bayona  Jurassic World: Fallen Kingdom               1135.77\n",
       "175       Chris Buck                          Frozen               1122.47\n",
       "176     Jennifer Lee                          Frozen               1122.47\n",
       "245       Kyle Balda                         Minions               1086.34\n",
       "375      Joss Whedon         Avengers: Age of Ultron               1072.41"
      ]
     },
     "execution_count": 38,
     "metadata": {},
     "output_type": "execute_result"
    }
   ],
   "source": [
    "filt = (principals_top_50_worldwide_profit_df['category'] == 'director')\n",
    "sorted_df = principals_top_50_worldwide_profit_df[filt].sort_values('worldwide_profit_mil', ascending=False)\n",
    "director_set.update(sorted_df.head(10)['primary_name'])\n",
    "sorted_df.head(10)[['primary_name', 'primary_title_x', 'worldwide_profit_mil']]"
   ]
  },
  {
   "cell_type": "code",
   "execution_count": 39,
   "metadata": {},
   "outputs": [
    {
     "data": {
      "text/html": [
       "<div>\n",
       "<style scoped>\n",
       "    .dataframe tbody tr th:only-of-type {\n",
       "        vertical-align: middle;\n",
       "    }\n",
       "\n",
       "    .dataframe tbody tr th {\n",
       "        vertical-align: top;\n",
       "    }\n",
       "\n",
       "    .dataframe thead th {\n",
       "        text-align: right;\n",
       "    }\n",
       "</style>\n",
       "<table border=\"1\" class=\"dataframe\">\n",
       "  <thead>\n",
       "    <tr style=\"text-align: right;\">\n",
       "      <th></th>\n",
       "      <th>primary_name</th>\n",
       "      <th>primary_title_x</th>\n",
       "      <th>ROI</th>\n",
       "    </tr>\n",
       "  </thead>\n",
       "  <tbody>\n",
       "    <tr>\n",
       "      <th>234</th>\n",
       "      <td>Chris Lofing</td>\n",
       "      <td>The Gallows</td>\n",
       "      <td>415.56</td>\n",
       "    </tr>\n",
       "    <tr>\n",
       "      <th>233</th>\n",
       "      <td>Travis Cluff</td>\n",
       "      <td>The Gallows</td>\n",
       "      <td>415.56</td>\n",
       "    </tr>\n",
       "    <tr>\n",
       "      <th>5</th>\n",
       "      <td>William Brent Bell</td>\n",
       "      <td>The Devil Inside</td>\n",
       "      <td>100.76</td>\n",
       "    </tr>\n",
       "    <tr>\n",
       "      <th>203</th>\n",
       "      <td>Tod Williams</td>\n",
       "      <td>Paranormal Activity 2</td>\n",
       "      <td>58.17</td>\n",
       "    </tr>\n",
       "    <tr>\n",
       "      <th>413</th>\n",
       "      <td>Jordan Peele</td>\n",
       "      <td>Get Out</td>\n",
       "      <td>50.07</td>\n",
       "    </tr>\n",
       "    <tr>\n",
       "      <th>114</th>\n",
       "      <td>Bradley Parker</td>\n",
       "      <td>Chernobyl Diaries</td>\n",
       "      <td>41.41</td>\n",
       "    </tr>\n",
       "    <tr>\n",
       "      <th>36</th>\n",
       "      <td>Ariel Schulman</td>\n",
       "      <td>Paranormal Activity 3</td>\n",
       "      <td>40.41</td>\n",
       "    </tr>\n",
       "    <tr>\n",
       "      <th>35</th>\n",
       "      <td>Henry Joost</td>\n",
       "      <td>Paranormal Activity 3</td>\n",
       "      <td>40.41</td>\n",
       "    </tr>\n",
       "    <tr>\n",
       "      <th>283</th>\n",
       "      <td>John R. Leonetti</td>\n",
       "      <td>Annabelle</td>\n",
       "      <td>38.52</td>\n",
       "    </tr>\n",
       "    <tr>\n",
       "      <th>253</th>\n",
       "      <td>Daniel Stamm</td>\n",
       "      <td>The Last Exorcism</td>\n",
       "      <td>37.98</td>\n",
       "    </tr>\n",
       "  </tbody>\n",
       "</table>\n",
       "</div>"
      ],
      "text/plain": [
       "           primary_name        primary_title_x    ROI\n",
       "234        Chris Lofing            The Gallows 415.56\n",
       "233        Travis Cluff            The Gallows 415.56\n",
       "5    William Brent Bell       The Devil Inside 100.76\n",
       "203        Tod Williams  Paranormal Activity 2  58.17\n",
       "413        Jordan Peele                Get Out  50.07\n",
       "114      Bradley Parker      Chernobyl Diaries  41.41\n",
       "36       Ariel Schulman  Paranormal Activity 3  40.41\n",
       "35          Henry Joost  Paranormal Activity 3  40.41\n",
       "283    John R. Leonetti              Annabelle  38.52\n",
       "253        Daniel Stamm      The Last Exorcism  37.98"
      ]
     },
     "execution_count": 39,
     "metadata": {},
     "output_type": "execute_result"
    }
   ],
   "source": [
    "principals_top_50_ROI_df = imdb_principals_df.merge(top_50_ROI_df, on='movie_id', how='inner')\n",
    "filt = principals_top_50_ROI_df['category'] == 'director'\n",
    "sorted_df = principals_top_50_ROI_df[filt].sort_values('ROI', ascending=False)\n",
    "director_set.update(sorted_df.head(10)['primary_name'])\n",
    "sorted_df.head(10)[['primary_name', 'primary_title_x', 'ROI']]"
   ]
  },
  {
   "cell_type": "code",
   "execution_count": 40,
   "metadata": {},
   "outputs": [
    {
     "data": {
      "text/html": [
       "<div>\n",
       "<style scoped>\n",
       "    .dataframe tbody tr th:only-of-type {\n",
       "        vertical-align: middle;\n",
       "    }\n",
       "\n",
       "    .dataframe tbody tr th {\n",
       "        vertical-align: top;\n",
       "    }\n",
       "\n",
       "    .dataframe thead th {\n",
       "        text-align: right;\n",
       "    }\n",
       "</style>\n",
       "<table border=\"1\" class=\"dataframe\">\n",
       "  <thead>\n",
       "    <tr style=\"text-align: right;\">\n",
       "      <th></th>\n",
       "      <th>primary_name</th>\n",
       "      <th>primary_title_x</th>\n",
       "      <th>numvotes_y</th>\n",
       "    </tr>\n",
       "  </thead>\n",
       "  <tbody>\n",
       "    <tr>\n",
       "      <th>315</th>\n",
       "      <td>Christopher Nolan</td>\n",
       "      <td>Inception</td>\n",
       "      <td>1841066.00</td>\n",
       "    </tr>\n",
       "    <tr>\n",
       "      <th>345</th>\n",
       "      <td>Christopher Nolan</td>\n",
       "      <td>The Dark Knight Rises</td>\n",
       "      <td>1387769.00</td>\n",
       "    </tr>\n",
       "    <tr>\n",
       "      <th>415</th>\n",
       "      <td>Christopher Nolan</td>\n",
       "      <td>Interstellar</td>\n",
       "      <td>1299334.00</td>\n",
       "    </tr>\n",
       "    <tr>\n",
       "      <th>185</th>\n",
       "      <td>Quentin Tarantino</td>\n",
       "      <td>Django Unchained</td>\n",
       "      <td>1211405.00</td>\n",
       "    </tr>\n",
       "    <tr>\n",
       "      <th>235</th>\n",
       "      <td>Martin Scorsese</td>\n",
       "      <td>The Wolf of Wall Street</td>\n",
       "      <td>1035358.00</td>\n",
       "    </tr>\n",
       "    <tr>\n",
       "      <th>155</th>\n",
       "      <td>Martin Scorsese</td>\n",
       "      <td>Shutter Island</td>\n",
       "      <td>1005960.00</td>\n",
       "    </tr>\n",
       "    <tr>\n",
       "      <th>15</th>\n",
       "      <td>James Gunn</td>\n",
       "      <td>Guardians of the Galaxy</td>\n",
       "      <td>948394.00</td>\n",
       "    </tr>\n",
       "    <tr>\n",
       "      <th>205</th>\n",
       "      <td>Tim Miller</td>\n",
       "      <td>Deadpool</td>\n",
       "      <td>820847.00</td>\n",
       "    </tr>\n",
       "    <tr>\n",
       "      <th>325</th>\n",
       "      <td>Gary Ross</td>\n",
       "      <td>The Hunger Games</td>\n",
       "      <td>795227.00</td>\n",
       "    </tr>\n",
       "    <tr>\n",
       "      <th>165</th>\n",
       "      <td>George Miller</td>\n",
       "      <td>Mad Max: Fury Road</td>\n",
       "      <td>780910.00</td>\n",
       "    </tr>\n",
       "  </tbody>\n",
       "</table>\n",
       "</div>"
      ],
      "text/plain": [
       "          primary_name          primary_title_x  numvotes_y\n",
       "315  Christopher Nolan                Inception  1841066.00\n",
       "345  Christopher Nolan    The Dark Knight Rises  1387769.00\n",
       "415  Christopher Nolan             Interstellar  1299334.00\n",
       "185  Quentin Tarantino         Django Unchained  1211405.00\n",
       "235    Martin Scorsese  The Wolf of Wall Street  1035358.00\n",
       "155    Martin Scorsese           Shutter Island  1005960.00\n",
       "15          James Gunn  Guardians of the Galaxy   948394.00\n",
       "205         Tim Miller                 Deadpool   820847.00\n",
       "325          Gary Ross         The Hunger Games   795227.00\n",
       "165      George Miller       Mad Max: Fury Road   780910.00"
      ]
     },
     "execution_count": 40,
     "metadata": {},
     "output_type": "execute_result"
    }
   ],
   "source": [
    "principals_top_50_votes_df = imdb_principals_df.merge(top_50_votes_df, on='movie_id', how='inner')\n",
    "filt = principals_top_50_votes_df['category'] == 'director'\n",
    "sorted_df = principals_top_50_votes_df[filt].sort_values('numvotes_y', ascending=False)\n",
    "director_set.update(sorted_df.head(10)['primary_name'])\n",
    "sorted_df.head(10)[['primary_name', 'primary_title_x', 'numvotes_y']]"
   ]
  },
  {
   "cell_type": "code",
   "execution_count": 42,
   "metadata": {
    "scrolled": true
   },
   "outputs": [],
   "source": [
    "director_list = list(director_set)"
   ]
  },
  {
   "cell_type": "code",
   "execution_count": 43,
   "metadata": {},
   "outputs": [],
   "source": [
    "filt = imdb_principals_df['category'] == 'director'\n",
    "directors_movies_df = imdb_principals_df[filt].merge(competing_studio_budgets_ratings_df, on='movie_id', how='inner')\n",
    "filt = directors_movies_df['primary_name'].isin(director_list)\n",
    "best_directors = directors_movies_df[filt]"
   ]
  },
  {
   "cell_type": "code",
   "execution_count": 44,
   "metadata": {},
   "outputs": [],
   "source": [
    "# Make mean outcomes grouped by director name\n",
    "grouped_best_directors = best_directors.groupby('primary_name')[['worldwide_profit_mil', 'ROI', 'averagerating_y', 'numvotes_y']].mean()"
   ]
  },
  {
   "cell_type": "code",
   "execution_count": 45,
   "metadata": {},
   "outputs": [
    {
     "data": {
      "image/png": "[encoded data removed]",
      "text/plain": [
       "<Figure size 468x468 with 1 Axes>"
      ]
     },
     "metadata": {
      "needs_background": "light"
     },
     "output_type": "display_data"
    }
   ],
   "source": [
    "tmp = grouped_best_directors.sort_values('worldwide_profit_mil', ascending=False)['worldwide_profit_mil'].head(10)\n",
    "\n",
    "fig, ax = plt.subplots(figsize=(6.5, 6.5))\n",
    "sns.barplot(y=tmp.index, \n",
    "            x=tmp.values,\n",
    "            palette=\"Blues_d\")\n",
    "ax.set_title('Most Profitable Directors')\n",
    "ax.set_xlabel('Worldwide Profit (mil)')\n",
    "ax.set_ylabel('Director');"
   ]
  },
  {
   "cell_type": "code",
   "execution_count": 46,
   "metadata": {},
   "outputs": [
    {
     "data": {
      "image/png": "[encoded data removed]",
      "text/plain": [
       "<Figure size 468x468 with 1 Axes>"
      ]
     },
     "metadata": {
      "needs_background": "light"
     },
     "output_type": "display_data"
    }
   ],
   "source": [
    "tmp = grouped_best_directors.sort_values('ROI', ascending=False)['ROI'].head(10)\n",
    "\n",
    "fig, ax = plt.subplots(figsize=(6.5, 6.5))\n",
    "sns.barplot(y=tmp.index, \n",
    "            x=tmp.values,\n",
    "            palette=\"Blues_d\")\n",
    "ax.set_title('Highest ROI Directors')\n",
    "ax.set_xlabel('ROI')\n",
    "ax.set_ylabel('Director');"
   ]
  },
  {
   "cell_type": "code",
   "execution_count": 47,
   "metadata": {},
   "outputs": [
    {
     "data": {
      "image/png": "[encoded data removed]",
      "text/plain": [
       "<Figure size 468x468 with 1 Axes>"
      ]
     },
     "metadata": {
      "needs_background": "light"
     },
     "output_type": "display_data"
    }
   ],
   "source": [
    "tmp = grouped_best_directors.sort_values('numvotes_y', ascending=False)['numvotes_y'].head(10)\n",
    "\n",
    "fig, ax = plt.subplots(figsize=(6.5, 6.5))\n",
    "sns.barplot(y=tmp.index, \n",
    "            x=tmp.values,\n",
    "            palette=\"Blues_d\")\n",
    "ax.set_title('High Interest Directors')\n",
    "ax.set_xlabel('Number of Votes in IMDb')\n",
    "ax.set_ylabel('Director')\n",
    "ax.ticklabel_format(style='plain', axis='x',useOffset=False);"
   ]
  },
  {
   "cell_type": "markdown",
   "metadata": {},
   "source": [
    "## Conclusions"
   ]
  },
  {
   "cell_type": "markdown",
   "metadata": {},
   "source": [
    "In conclusion, the way this relates back to the business problem is explored in our three recommendations."
   ]
  },
  {
   "cell_type": "markdown",
   "metadata": {},
   "source": [
    "### First Recommendation"
   ]
  },
  {
   "cell_type": "markdown",
   "metadata": {},
   "source": [
    "The financial analysis illustrated that movies with higher production budgets are making more revenue at the box office. These findings are what led us to form our first recommendation: have a production budget of over a 100million USD. "
   ]
  },
  {
   "cell_type": "markdown",
   "metadata": {},
   "source": [
    "### Second Recommendation"
   ]
  },
  {
   "cell_type": "markdown",
   "metadata": {},
   "source": [
    "\n",
    "The analysis into genre provided the basis for our second recommendation: Microsoft studios should produce movies in a diverse range of genres, as well as make multiple movies simultaneously. This strategy will also effectively diversify the risk to Microsoft of this new endeavour. \n"
   ]
  },
  {
   "cell_type": "markdown",
   "metadata": {},
   "source": [
    "### Third Recommendation"
   ]
  },
  {
   "cell_type": "markdown",
   "metadata": {},
   "source": [
    "The meta-analysis into which directors produce the best business outcomes concluded in forming our third recomendation: choose directors that drive popularity and profit within the recommended genres to direct those films. Furthermore, develop relationships with high profile directors in the way only a company like Microsoft can. \n"
   ]
  },
  {
   "cell_type": "markdown",
   "metadata": {},
   "source": [
    "## Next Steps"
   ]
  },
  {
   "cell_type": "markdown",
   "metadata": {},
   "source": [
    "In this analysis, we our raw data was primarly procured through third party websites. While this is typical for an initial industry evaluation; this resulted in a restricted raw data set. To provide a more well rounded and accurate analysis we would need to procure the following data:\n",
    "1. Data pertianing to the marketing budget (as this is arguably more prevalent to profit than the production budget)\n",
    "2. Data pertaining to merchandising and licensing (to more accurately capture \"popularity\" as a variable)\n",
    "3. Data pertaining to the performance of Microsoft Studios in-studio movies (this is yet to be made)"
   ]
  },
  {
   "cell_type": "code",
   "execution_count": null,
   "metadata": {},
   "outputs": [],
   "source": []
  }
 ],
 "metadata": {
  "kernelspec": {
   "display_name": "Python (learn-env)",
   "language": "python",
   "name": "learn-env"
  },
  "language_info": {
   "codemirror_mode": {
    "name": "ipython",
    "version": 3
   },
   "file_extension": ".py",
   "mimetype": "text/x-python",
   "name": "python",
   "nbconvert_exporter": "python",
   "pygments_lexer": "ipython3",
   "version": "3.8.5"
  }
 },
 "nbformat": 4,
 "nbformat_minor": 4
}
